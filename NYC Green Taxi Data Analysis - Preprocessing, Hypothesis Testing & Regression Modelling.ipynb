{
 "cells": [
  {
   "cell_type": "code",
   "execution_count": 1,
   "id": "4b5e7771",
   "metadata": {},
   "outputs": [],
   "source": [
    "import pandas as pd\n",
    "import numpy as np\n",
    "import matplotlib.pyplot as plt\n",
    "%matplotlib inline"
   ]
  },
  {
   "cell_type": "code",
   "execution_count": 2,
   "id": "e56db4df",
   "metadata": {},
   "outputs": [
    {
     "name": "stdout",
     "output_type": "stream",
     "text": [
      "/Users/rajeshprabhakarkaila/Desktop/Datasets\n"
     ]
    }
   ],
   "source": [
    "import io\n",
    "%cd '/Users/rajeshprabhakarkaila/Desktop/Datasets'"
   ]
  },
  {
   "cell_type": "code",
   "execution_count": 3,
   "id": "49c59830",
   "metadata": {},
   "outputs": [],
   "source": [
    "greentaxidf=pd.read_csv(\"NYC Green Taxi June 2022.csv\",\n",
    "                       low_memory=False)"
   ]
  },
  {
   "cell_type": "code",
   "execution_count": 4,
   "id": "3847ded6",
   "metadata": {},
   "outputs": [
    {
     "data": {
      "text/plain": [
       "(73718, 20)"
      ]
     },
     "execution_count": 4,
     "metadata": {},
     "output_type": "execute_result"
    }
   ],
   "source": [
    "greentaxidf.shape"
   ]
  },
  {
   "cell_type": "code",
   "execution_count": 5,
   "id": "b0967689",
   "metadata": {},
   "outputs": [
    {
     "name": "stdout",
     "output_type": "stream",
     "text": [
      "<class 'pandas.core.frame.DataFrame'>\n",
      "RangeIndex: 73718 entries, 0 to 73717\n",
      "Data columns (total 20 columns):\n",
      " #   Column                         Non-Null Count  Dtype  \n",
      "---  ------                         --------------  -----  \n",
      " 0   VendorID(Int64)                73718 non-null  int64  \n",
      " 1   lpep_pickup_datetime(Int64)    73718 non-null  float64\n",
      " 2   lpep_dropoff_datetime(Int64)   73718 non-null  float64\n",
      " 3   store_and_fwd_flag(String)     64436 non-null  object \n",
      " 4   RatecodeID(Double)             64436 non-null  float64\n",
      " 5   PULocationID(Int64)            73718 non-null  int64  \n",
      " 6   DOLocationID(Int64)            73718 non-null  int64  \n",
      " 7   passenger_count(Double)        64436 non-null  float64\n",
      " 8   trip_distance(Double)          73718 non-null  float64\n",
      " 9   fare_amount(Double)            73718 non-null  float64\n",
      " 10  extra(Double)                  73718 non-null  float64\n",
      " 11  mta_tax(Double)                73718 non-null  float64\n",
      " 12  tip_amount(Double)             73718 non-null  float64\n",
      " 13  tolls_amount(Double)           73718 non-null  float64\n",
      " 14  ehail_fee(Int32)               0 non-null      float64\n",
      " 15  improvement_surcharge(Double)  73718 non-null  float64\n",
      " 16  total_amount(Double)           73718 non-null  float64\n",
      " 17  payment_type(Double)           64436 non-null  float64\n",
      " 18  trip_type(Double)              64435 non-null  float64\n",
      " 19  congestion_surcharge(Double)   64436 non-null  float64\n",
      "dtypes: float64(16), int64(3), object(1)\n",
      "memory usage: 11.2+ MB\n"
     ]
    }
   ],
   "source": [
    "greentaxidf.info()"
   ]
  },
  {
   "cell_type": "code",
   "execution_count": 6,
   "id": "d12edb39",
   "metadata": {},
   "outputs": [
    {
     "data": {
      "text/plain": [
       "Index(['VendorID(Int64)', 'lpep_pickup_datetime(Int64)',\n",
       "       'lpep_dropoff_datetime(Int64)', 'store_and_fwd_flag(String)',\n",
       "       'RatecodeID(Double)', 'PULocationID(Int64)', 'DOLocationID(Int64)',\n",
       "       'passenger_count(Double)', 'trip_distance(Double)',\n",
       "       'fare_amount(Double)', 'extra(Double)', 'mta_tax(Double)',\n",
       "       'tip_amount(Double)', 'tolls_amount(Double)', 'ehail_fee(Int32)',\n",
       "       'improvement_surcharge(Double)', 'total_amount(Double)',\n",
       "       'payment_type(Double)', 'trip_type(Double)',\n",
       "       'congestion_surcharge(Double)'],\n",
       "      dtype='object')"
      ]
     },
     "execution_count": 6,
     "metadata": {},
     "output_type": "execute_result"
    }
   ],
   "source": [
    "greentaxidf.columns"
   ]
  },
  {
   "cell_type": "code",
   "execution_count": 7,
   "id": "66d2bc28",
   "metadata": {},
   "outputs": [],
   "source": [
    "greentaxidf=greentaxidf.drop('ehail_fee(Int32)',axis=1)"
   ]
  },
  {
   "cell_type": "code",
   "execution_count": 8,
   "id": "05ca281e",
   "metadata": {},
   "outputs": [
    {
     "name": "stderr",
     "output_type": "stream",
     "text": [
      "/var/folders/r3/dbt2z1y15j5_krgqpzp7j_pc0000gn/T/ipykernel_4756/2950448171.py:2: FutureWarning: The default value of regex will change from True to False in a future version.\n",
      "  greentaxidf.columns=greentaxidf.columns.str.replace(\n"
     ]
    }
   ],
   "source": [
    "# Remove Datatype in paranthesis from Column Name\n",
    "greentaxidf.columns=greentaxidf.columns.str.replace(\n",
    "    r\"\\(.*\\) ?\",\"\")               "
   ]
  },
  {
   "cell_type": "code",
   "execution_count": 9,
   "id": "50d4780c",
   "metadata": {},
   "outputs": [
    {
     "name": "stdout",
     "output_type": "stream",
     "text": [
      "<class 'pandas.core.frame.DataFrame'>\n",
      "RangeIndex: 73718 entries, 0 to 73717\n",
      "Data columns (total 19 columns):\n",
      " #   Column                 Non-Null Count  Dtype  \n",
      "---  ------                 --------------  -----  \n",
      " 0   VendorID               73718 non-null  int64  \n",
      " 1   lpep_pickup_datetime   73718 non-null  float64\n",
      " 2   lpep_dropoff_datetime  73718 non-null  float64\n",
      " 3   store_and_fwd_flag     64436 non-null  object \n",
      " 4   RatecodeID             64436 non-null  float64\n",
      " 5   PULocationID           73718 non-null  int64  \n",
      " 6   DOLocationID           73718 non-null  int64  \n",
      " 7   passenger_count        64436 non-null  float64\n",
      " 8   trip_distance          73718 non-null  float64\n",
      " 9   fare_amount            73718 non-null  float64\n",
      " 10  extra                  73718 non-null  float64\n",
      " 11  mta_tax                73718 non-null  float64\n",
      " 12  tip_amount             73718 non-null  float64\n",
      " 13  tolls_amount           73718 non-null  float64\n",
      " 14  improvement_surcharge  73718 non-null  float64\n",
      " 15  total_amount           73718 non-null  float64\n",
      " 16  payment_type           64436 non-null  float64\n",
      " 17  trip_type              64435 non-null  float64\n",
      " 18  congestion_surcharge   64436 non-null  float64\n",
      "dtypes: float64(15), int64(3), object(1)\n",
      "memory usage: 10.7+ MB\n"
     ]
    }
   ],
   "source": [
    "greentaxidf.info()"
   ]
  },
  {
   "cell_type": "code",
   "execution_count": 10,
   "id": "f88aa574",
   "metadata": {},
   "outputs": [
    {
     "data": {
      "text/plain": [
       "trip_type                9283\n",
       "congestion_surcharge     9282\n",
       "store_and_fwd_flag       9282\n",
       "RatecodeID               9282\n",
       "payment_type             9282\n",
       "passenger_count          9282\n",
       "mta_tax                     0\n",
       "total_amount                0\n",
       "improvement_surcharge       0\n",
       "tolls_amount                0\n",
       "tip_amount                  0\n",
       "VendorID                    0\n",
       "extra                       0\n",
       "lpep_pickup_datetime        0\n",
       "trip_distance               0\n",
       "DOLocationID                0\n",
       "PULocationID                0\n",
       "lpep_dropoff_datetime       0\n",
       "fare_amount                 0\n",
       "dtype: int64"
      ]
     },
     "execution_count": 10,
     "metadata": {},
     "output_type": "execute_result"
    }
   ],
   "source": [
    "greentaxidf.isnull().sum().sort_values(ascending=False)"
   ]
  },
  {
   "cell_type": "code",
   "execution_count": 11,
   "id": "5d8e4033",
   "metadata": {},
   "outputs": [
    {
     "data": {
      "text/plain": [
       "1.0    61437\n",
       "NaN     9283\n",
       "2.0     2998\n",
       "Name: trip_type, dtype: int64"
      ]
     },
     "execution_count": 11,
     "metadata": {},
     "output_type": "execute_result"
    }
   ],
   "source": [
    "greentaxidf.trip_type.value_counts(dropna=False)"
   ]
  },
  {
   "cell_type": "code",
   "execution_count": 12,
   "id": "beb6e303",
   "metadata": {},
   "outputs": [],
   "source": [
    "greentaxidf.trip_type=greentaxidf.trip_type.fillna(1.0)"
   ]
  },
  {
   "cell_type": "code",
   "execution_count": 13,
   "id": "35002fa9",
   "metadata": {},
   "outputs": [
    {
     "data": {
      "text/plain": [
       "count    64436.000000\n",
       "mean         0.740933\n",
       "std          1.220242\n",
       "min         -2.750000\n",
       "25%          0.000000\n",
       "50%          0.000000\n",
       "75%          2.750000\n",
       "max          2.750000\n",
       "Name: congestion_surcharge, dtype: float64"
      ]
     },
     "execution_count": 13,
     "metadata": {},
     "output_type": "execute_result"
    }
   ],
   "source": [
    "greentaxidf.congestion_surcharge.describe()"
   ]
  },
  {
   "cell_type": "code",
   "execution_count": 14,
   "id": "78b2ca55",
   "metadata": {},
   "outputs": [],
   "source": [
    "greentaxidf.congestion_surcharge=greentaxidf.congestion_surcharge.fillna(0)"
   ]
  },
  {
   "cell_type": "code",
   "execution_count": 15,
   "id": "e8b86c2a",
   "metadata": {},
   "outputs": [
    {
     "data": {
      "text/plain": [
       "N      63638\n",
       "NaN     9282\n",
       "Y        798\n",
       "Name: store_and_fwd_flag, dtype: int64"
      ]
     },
     "execution_count": 15,
     "metadata": {},
     "output_type": "execute_result"
    }
   ],
   "source": [
    "greentaxidf.store_and_fwd_flag.value_counts(dropna=False)"
   ]
  },
  {
   "cell_type": "code",
   "execution_count": 16,
   "id": "449a3e16",
   "metadata": {},
   "outputs": [],
   "source": [
    "greentaxidf.store_and_fwd_flag=greentaxidf.store_and_fwd_flag.fillna('N')"
   ]
  },
  {
   "cell_type": "code",
   "execution_count": 17,
   "id": "aefdf3ca",
   "metadata": {},
   "outputs": [
    {
     "data": {
      "text/plain": [
       "1.0    41339\n",
       "2.0    22700\n",
       "NaN     9282\n",
       "3.0      326\n",
       "4.0       69\n",
       "5.0        2\n",
       "Name: payment_type, dtype: int64"
      ]
     },
     "execution_count": 17,
     "metadata": {},
     "output_type": "execute_result"
    }
   ],
   "source": [
    "greentaxidf.payment_type.value_counts(dropna=False)"
   ]
  },
  {
   "cell_type": "code",
   "execution_count": 18,
   "id": "3cbfa877",
   "metadata": {},
   "outputs": [],
   "source": [
    "greentaxidf.payment_type=greentaxidf.payment_type.fillna(1.0)"
   ]
  },
  {
   "cell_type": "code",
   "execution_count": 19,
   "id": "1f133f20",
   "metadata": {},
   "outputs": [
    {
     "data": {
      "text/plain": [
       "count    64436.000000\n",
       "mean         1.283723\n",
       "std          0.909935\n",
       "min          0.000000\n",
       "25%          1.000000\n",
       "50%          1.000000\n",
       "75%          1.000000\n",
       "max          8.000000\n",
       "Name: passenger_count, dtype: float64"
      ]
     },
     "execution_count": 19,
     "metadata": {},
     "output_type": "execute_result"
    }
   ],
   "source": [
    "greentaxidf.passenger_count.describe()"
   ]
  },
  {
   "cell_type": "code",
   "execution_count": 20,
   "id": "4ff635a4",
   "metadata": {},
   "outputs": [],
   "source": [
    "greentaxidf.passenger_count=greentaxidf.passenger_count.fillna(1.0)"
   ]
  },
  {
   "cell_type": "code",
   "execution_count": 21,
   "id": "01778cd9",
   "metadata": {},
   "outputs": [
    {
     "data": {
      "text/plain": [
       "1.0     60611\n",
       "NaN      9282\n",
       "5.0      3429\n",
       "2.0       281\n",
       "4.0        65\n",
       "3.0        49\n",
       "99.0        1\n",
       "Name: RatecodeID, dtype: int64"
      ]
     },
     "execution_count": 21,
     "metadata": {},
     "output_type": "execute_result"
    }
   ],
   "source": [
    "greentaxidf.RatecodeID.value_counts(dropna=False)"
   ]
  },
  {
   "cell_type": "code",
   "execution_count": 22,
   "id": "41f348f2",
   "metadata": {},
   "outputs": [],
   "source": [
    "greentaxidf.RatecodeID=greentaxidf.RatecodeID.fillna(1.0)"
   ]
  },
  {
   "cell_type": "code",
   "execution_count": 23,
   "id": "7b28b02d",
   "metadata": {},
   "outputs": [
    {
     "data": {
      "text/html": [
       "<div>\n",
       "<style scoped>\n",
       "    .dataframe tbody tr th:only-of-type {\n",
       "        vertical-align: middle;\n",
       "    }\n",
       "\n",
       "    .dataframe tbody tr th {\n",
       "        vertical-align: top;\n",
       "    }\n",
       "\n",
       "    .dataframe thead th {\n",
       "        text-align: right;\n",
       "    }\n",
       "</style>\n",
       "<table border=\"1\" class=\"dataframe\">\n",
       "  <thead>\n",
       "    <tr style=\"text-align: right;\">\n",
       "      <th></th>\n",
       "      <th>VendorID</th>\n",
       "      <th>lpep_pickup_datetime</th>\n",
       "      <th>lpep_dropoff_datetime</th>\n",
       "      <th>store_and_fwd_flag</th>\n",
       "      <th>RatecodeID</th>\n",
       "      <th>PULocationID</th>\n",
       "      <th>DOLocationID</th>\n",
       "      <th>passenger_count</th>\n",
       "      <th>trip_distance</th>\n",
       "      <th>fare_amount</th>\n",
       "      <th>extra</th>\n",
       "      <th>mta_tax</th>\n",
       "      <th>tip_amount</th>\n",
       "      <th>tolls_amount</th>\n",
       "      <th>improvement_surcharge</th>\n",
       "      <th>total_amount</th>\n",
       "      <th>payment_type</th>\n",
       "      <th>trip_type</th>\n",
       "      <th>congestion_surcharge</th>\n",
       "    </tr>\n",
       "  </thead>\n",
       "  <tbody>\n",
       "    <tr>\n",
       "      <th>0</th>\n",
       "      <td>2</td>\n",
       "      <td>1.654040e+15</td>\n",
       "      <td>1.654040e+15</td>\n",
       "      <td>N</td>\n",
       "      <td>1.0</td>\n",
       "      <td>134</td>\n",
       "      <td>216</td>\n",
       "      <td>2.0</td>\n",
       "      <td>2.03</td>\n",
       "      <td>7.5</td>\n",
       "      <td>0.5</td>\n",
       "      <td>0.5</td>\n",
       "      <td>2.64</td>\n",
       "      <td>0.0</td>\n",
       "      <td>0.3</td>\n",
       "      <td>11.44</td>\n",
       "      <td>1.0</td>\n",
       "      <td>1.0</td>\n",
       "      <td>0.0</td>\n",
       "    </tr>\n",
       "    <tr>\n",
       "      <th>1</th>\n",
       "      <td>2</td>\n",
       "      <td>1.654050e+15</td>\n",
       "      <td>1.654050e+15</td>\n",
       "      <td>N</td>\n",
       "      <td>1.0</td>\n",
       "      <td>134</td>\n",
       "      <td>216</td>\n",
       "      <td>2.0</td>\n",
       "      <td>4.26</td>\n",
       "      <td>14.5</td>\n",
       "      <td>0.5</td>\n",
       "      <td>0.5</td>\n",
       "      <td>3.16</td>\n",
       "      <td>0.0</td>\n",
       "      <td>0.3</td>\n",
       "      <td>18.96</td>\n",
       "      <td>1.0</td>\n",
       "      <td>1.0</td>\n",
       "      <td>0.0</td>\n",
       "    </tr>\n",
       "    <tr>\n",
       "      <th>2</th>\n",
       "      <td>2</td>\n",
       "      <td>1.654040e+15</td>\n",
       "      <td>1.654040e+15</td>\n",
       "      <td>N</td>\n",
       "      <td>5.0</td>\n",
       "      <td>53</td>\n",
       "      <td>53</td>\n",
       "      <td>1.0</td>\n",
       "      <td>0.00</td>\n",
       "      <td>15.0</td>\n",
       "      <td>0.0</td>\n",
       "      <td>0.0</td>\n",
       "      <td>4.59</td>\n",
       "      <td>0.0</td>\n",
       "      <td>0.3</td>\n",
       "      <td>19.89</td>\n",
       "      <td>1.0</td>\n",
       "      <td>2.0</td>\n",
       "      <td>0.0</td>\n",
       "    </tr>\n",
       "    <tr>\n",
       "      <th>3</th>\n",
       "      <td>2</td>\n",
       "      <td>1.654040e+15</td>\n",
       "      <td>1.654040e+15</td>\n",
       "      <td>N</td>\n",
       "      <td>1.0</td>\n",
       "      <td>65</td>\n",
       "      <td>17</td>\n",
       "      <td>1.0</td>\n",
       "      <td>1.78</td>\n",
       "      <td>9.5</td>\n",
       "      <td>0.5</td>\n",
       "      <td>0.5</td>\n",
       "      <td>1.00</td>\n",
       "      <td>0.0</td>\n",
       "      <td>0.3</td>\n",
       "      <td>11.80</td>\n",
       "      <td>1.0</td>\n",
       "      <td>1.0</td>\n",
       "      <td>0.0</td>\n",
       "    </tr>\n",
       "    <tr>\n",
       "      <th>4</th>\n",
       "      <td>2</td>\n",
       "      <td>1.654040e+15</td>\n",
       "      <td>1.654040e+15</td>\n",
       "      <td>N</td>\n",
       "      <td>1.0</td>\n",
       "      <td>41</td>\n",
       "      <td>159</td>\n",
       "      <td>3.0</td>\n",
       "      <td>3.10</td>\n",
       "      <td>13.0</td>\n",
       "      <td>0.5</td>\n",
       "      <td>0.5</td>\n",
       "      <td>0.00</td>\n",
       "      <td>0.0</td>\n",
       "      <td>0.3</td>\n",
       "      <td>14.30</td>\n",
       "      <td>2.0</td>\n",
       "      <td>1.0</td>\n",
       "      <td>0.0</td>\n",
       "    </tr>\n",
       "  </tbody>\n",
       "</table>\n",
       "</div>"
      ],
      "text/plain": [
       "   VendorID  lpep_pickup_datetime  lpep_dropoff_datetime store_and_fwd_flag  \\\n",
       "0         2          1.654040e+15           1.654040e+15                  N   \n",
       "1         2          1.654050e+15           1.654050e+15                  N   \n",
       "2         2          1.654040e+15           1.654040e+15                  N   \n",
       "3         2          1.654040e+15           1.654040e+15                  N   \n",
       "4         2          1.654040e+15           1.654040e+15                  N   \n",
       "\n",
       "   RatecodeID  PULocationID  DOLocationID  passenger_count  trip_distance  \\\n",
       "0         1.0           134           216              2.0           2.03   \n",
       "1         1.0           134           216              2.0           4.26   \n",
       "2         5.0            53            53              1.0           0.00   \n",
       "3         1.0            65            17              1.0           1.78   \n",
       "4         1.0            41           159              3.0           3.10   \n",
       "\n",
       "   fare_amount  extra  mta_tax  tip_amount  tolls_amount  \\\n",
       "0          7.5    0.5      0.5        2.64           0.0   \n",
       "1         14.5    0.5      0.5        3.16           0.0   \n",
       "2         15.0    0.0      0.0        4.59           0.0   \n",
       "3          9.5    0.5      0.5        1.00           0.0   \n",
       "4         13.0    0.5      0.5        0.00           0.0   \n",
       "\n",
       "   improvement_surcharge  total_amount  payment_type  trip_type  \\\n",
       "0                    0.3         11.44           1.0        1.0   \n",
       "1                    0.3         18.96           1.0        1.0   \n",
       "2                    0.3         19.89           1.0        2.0   \n",
       "3                    0.3         11.80           1.0        1.0   \n",
       "4                    0.3         14.30           2.0        1.0   \n",
       "\n",
       "   congestion_surcharge  \n",
       "0                   0.0  \n",
       "1                   0.0  \n",
       "2                   0.0  \n",
       "3                   0.0  \n",
       "4                   0.0  "
      ]
     },
     "execution_count": 23,
     "metadata": {},
     "output_type": "execute_result"
    }
   ],
   "source": [
    "greentaxidf.head()"
   ]
  },
  {
   "cell_type": "code",
   "execution_count": 25,
   "id": "2eeb9f08",
   "metadata": {},
   "outputs": [],
   "source": [
    "greentaxidf.lpep_pickup_datetime=greentaxidf.lpep_pickup_datetime.astype('int64')/10**6"
   ]
  },
  {
   "cell_type": "code",
   "execution_count": 26,
   "id": "9ce65143",
   "metadata": {},
   "outputs": [],
   "source": [
    "greentaxidf['pickup']=pd.to_datetime(greentaxidf.lpep_pickup_datetime,\n",
    "                                    unit='s')"
   ]
  },
  {
   "cell_type": "code",
   "execution_count": 28,
   "id": "f5205259",
   "metadata": {},
   "outputs": [],
   "source": [
    "greentaxidf.lpep_dropoff_datetime=greentaxidf.lpep_dropoff_datetime.astype('int64')/10**6"
   ]
  },
  {
   "cell_type": "code",
   "execution_count": 29,
   "id": "5780c2d7",
   "metadata": {},
   "outputs": [],
   "source": [
    "greentaxidf['dropoff']=pd.to_datetime(greentaxidf.lpep_dropoff_datetime,\n",
    "                                     unit='s')"
   ]
  },
  {
   "cell_type": "code",
   "execution_count": 30,
   "id": "c184223a",
   "metadata": {},
   "outputs": [
    {
     "name": "stdout",
     "output_type": "stream",
     "text": [
      "<class 'pandas.core.frame.DataFrame'>\n",
      "RangeIndex: 73718 entries, 0 to 73717\n",
      "Data columns (total 21 columns):\n",
      " #   Column                 Non-Null Count  Dtype         \n",
      "---  ------                 --------------  -----         \n",
      " 0   VendorID               73718 non-null  int64         \n",
      " 1   lpep_pickup_datetime   73718 non-null  float64       \n",
      " 2   lpep_dropoff_datetime  73718 non-null  float64       \n",
      " 3   store_and_fwd_flag     73718 non-null  object        \n",
      " 4   RatecodeID             73718 non-null  float64       \n",
      " 5   PULocationID           73718 non-null  int64         \n",
      " 6   DOLocationID           73718 non-null  int64         \n",
      " 7   passenger_count        73718 non-null  float64       \n",
      " 8   trip_distance          73718 non-null  float64       \n",
      " 9   fare_amount            73718 non-null  float64       \n",
      " 10  extra                  73718 non-null  float64       \n",
      " 11  mta_tax                73718 non-null  float64       \n",
      " 12  tip_amount             73718 non-null  float64       \n",
      " 13  tolls_amount           73718 non-null  float64       \n",
      " 14  improvement_surcharge  73718 non-null  float64       \n",
      " 15  total_amount           73718 non-null  float64       \n",
      " 16  payment_type           73718 non-null  float64       \n",
      " 17  trip_type              73718 non-null  float64       \n",
      " 18  congestion_surcharge   73718 non-null  float64       \n",
      " 19  pickup                 73718 non-null  datetime64[ns]\n",
      " 20  dropoff                73718 non-null  datetime64[ns]\n",
      "dtypes: datetime64[ns](2), float64(15), int64(3), object(1)\n",
      "memory usage: 11.8+ MB\n"
     ]
    }
   ],
   "source": [
    "greentaxidf.info()"
   ]
  },
  {
   "cell_type": "code",
   "execution_count": 31,
   "id": "260cdcf4",
   "metadata": {},
   "outputs": [
    {
     "data": {
      "text/plain": [
       "Index(['VendorID', 'lpep_pickup_datetime', 'lpep_dropoff_datetime',\n",
       "       'store_and_fwd_flag', 'RatecodeID', 'PULocationID', 'DOLocationID',\n",
       "       'passenger_count', 'trip_distance', 'fare_amount', 'extra', 'mta_tax',\n",
       "       'tip_amount', 'tolls_amount', 'improvement_surcharge', 'total_amount',\n",
       "       'payment_type', 'trip_type', 'congestion_surcharge', 'pickup',\n",
       "       'dropoff'],\n",
       "      dtype='object')"
      ]
     },
     "execution_count": 31,
     "metadata": {},
     "output_type": "execute_result"
    }
   ],
   "source": [
    "greentaxidf.columns"
   ]
  },
  {
   "cell_type": "code",
   "execution_count": 32,
   "id": "dc78a606",
   "metadata": {},
   "outputs": [],
   "source": [
    "greentaxidf=greentaxidf.drop(['VendorID', 'lpep_pickup_datetime', \n",
    "                              'lpep_dropoff_datetime',\n",
    "                             'PULocationID', 'DOLocationID'],axis=1)"
   ]
  },
  {
   "cell_type": "code",
   "execution_count": 33,
   "id": "7750f630",
   "metadata": {},
   "outputs": [
    {
     "data": {
      "text/plain": [
       "Index(['store_and_fwd_flag', 'RatecodeID', 'passenger_count', 'trip_distance',\n",
       "       'fare_amount', 'extra', 'mta_tax', 'tip_amount', 'tolls_amount',\n",
       "       'improvement_surcharge', 'total_amount', 'payment_type', 'trip_type',\n",
       "       'congestion_surcharge', 'pickup', 'dropoff'],\n",
       "      dtype='object')"
      ]
     },
     "execution_count": 33,
     "metadata": {},
     "output_type": "execute_result"
    }
   ],
   "source": [
    "greentaxidf.columns"
   ]
  },
  {
   "cell_type": "code",
   "execution_count": 34,
   "id": "0980bbb5",
   "metadata": {},
   "outputs": [],
   "source": [
    "greentaxidf['weekday']=greentaxidf.dropoff.dt.weekday"
   ]
  },
  {
   "cell_type": "code",
   "execution_count": 35,
   "id": "411d2f4a",
   "metadata": {},
   "outputs": [
    {
     "data": {
      "text/plain": [
       "3    13257\n",
       "2    12973\n",
       "4    11013\n",
       "1    10076\n",
       "0     9307\n",
       "5     8974\n",
       "6     8118\n",
       "Name: weekday, dtype: int64"
      ]
     },
     "execution_count": 35,
     "metadata": {},
     "output_type": "execute_result"
    }
   ],
   "source": [
    "greentaxidf.weekday.value_counts()"
   ]
  },
  {
   "cell_type": "code",
   "execution_count": 36,
   "id": "c799a567",
   "metadata": {},
   "outputs": [],
   "source": [
    "greentaxidf=greentaxidf.drop(['pickup', 'dropoff'],axis=1)"
   ]
  },
  {
   "cell_type": "code",
   "execution_count": 37,
   "id": "12409938",
   "metadata": {},
   "outputs": [
    {
     "data": {
      "text/plain": [
       "trip_type\n",
       "1.0    19.140102\n",
       "2.0    35.195824\n",
       "Name: total_amount, dtype: float64"
      ]
     },
     "execution_count": 37,
     "metadata": {},
     "output_type": "execute_result"
    }
   ],
   "source": [
    "greentaxidf.total_amount.groupby(greentaxidf.trip_type).mean()"
   ]
  },
  {
   "cell_type": "code",
   "execution_count": 38,
   "id": "8881692b",
   "metadata": {},
   "outputs": [],
   "source": [
    "# Test Null Average total_amount of different trip type equal\n",
    "type1=greentaxidf[greentaxidf.trip_type==1.0]\n",
    "type2=greentaxidf[greentaxidf.trip_type==2.0]"
   ]
  },
  {
   "cell_type": "code",
   "execution_count": 39,
   "id": "ff59e5a9",
   "metadata": {},
   "outputs": [
    {
     "name": "stderr",
     "output_type": "stream",
     "text": [
      "<frozen importlib._bootstrap>:228: RuntimeWarning: scipy._lib.messagestream.MessageStream size changed, may indicate binary incompatibility. Expected 56 from C header, got 64 from PyObject\n"
     ]
    }
   ],
   "source": [
    "from scipy.stats import ttest_ind"
   ]
  },
  {
   "cell_type": "code",
   "execution_count": 40,
   "id": "0205d095",
   "metadata": {},
   "outputs": [
    {
     "data": {
      "text/plain": [
       "Ttest_indResult(statistic=-27.448830837137713, pvalue=1.9400485137117117e-148)"
      ]
     },
     "execution_count": 40,
     "metadata": {},
     "output_type": "execute_result"
    }
   ],
   "source": [
    "ttest_ind(type1.total_amount,type2.total_amount,equal_var=False)\n",
    "# Since pvalue=1.9400485137117117e-148 is less than 0.05,\n",
    "# Reject Null\n",
    "# Null - No Significant difference in Average total amount of\n",
    "# different trip_type"
   ]
  },
  {
   "cell_type": "code",
   "execution_count": 41,
   "id": "c453a7fa",
   "metadata": {},
   "outputs": [
    {
     "data": {
      "text/plain": [
       "weekday\n",
       "0    19.344095\n",
       "1    19.464185\n",
       "2    19.494443\n",
       "3    19.769369\n",
       "4    20.319223\n",
       "5    19.972375\n",
       "6    20.319885\n",
       "Name: total_amount, dtype: float64"
      ]
     },
     "execution_count": 41,
     "metadata": {},
     "output_type": "execute_result"
    }
   ],
   "source": [
    "# Test Null Average total_amount of different weekday equal\n",
    "greentaxidf.total_amount.groupby(greentaxidf.weekday).mean()"
   ]
  },
  {
   "cell_type": "code",
   "execution_count": 42,
   "id": "ac8e790c",
   "metadata": {},
   "outputs": [
    {
     "data": {
      "text/plain": [
       "<AxesSubplot:xlabel='weekday'>"
      ]
     },
     "execution_count": 42,
     "metadata": {},
     "output_type": "execute_result"
    },
    {
     "data": {
      "image/png": "[encoded data removed]",
      "text/plain": [
       "<Figure size 640x480 with 1 Axes>"
      ]
     },
     "metadata": {},
     "output_type": "display_data"
    }
   ],
   "source": [
    "greentaxidf.total_amount.groupby(greentaxidf.weekday).mean().plot(kind='bar')"
   ]
  },
  {
   "cell_type": "code",
   "execution_count": 43,
   "id": "95b74522",
   "metadata": {},
   "outputs": [],
   "source": [
    "wd0=greentaxidf[greentaxidf.weekday==0]\n",
    "wd1=greentaxidf[greentaxidf.weekday==1]\n",
    "wd2=greentaxidf[greentaxidf.weekday==2]\n",
    "wd3=greentaxidf[greentaxidf.weekday==3]\n",
    "wd4=greentaxidf[greentaxidf.weekday==4]\n",
    "wd5=greentaxidf[greentaxidf.weekday==5]\n",
    "wd6=greentaxidf[greentaxidf.weekday==6]"
   ]
  },
  {
   "cell_type": "code",
   "execution_count": 44,
   "id": "01c3cfde",
   "metadata": {},
   "outputs": [],
   "source": [
    "from scipy.stats import f_oneway"
   ]
  },
  {
   "cell_type": "code",
   "execution_count": 45,
   "id": "1d376c6d",
   "metadata": {},
   "outputs": [
    {
     "data": {
      "text/plain": [
       "F_onewayResult(statistic=6.17312825836052, pvalue=1.7369676245639055e-06)"
      ]
     },
     "execution_count": 45,
     "metadata": {},
     "output_type": "execute_result"
    }
   ],
   "source": [
    "f_oneway(wd0.total_amount,wd1.total_amount,wd2.total_amount,\n",
    "        wd3.total_amount,wd4.total_amount,wd5.total_amount,\n",
    "        wd6.total_amount)\n",
    "# Since pvalue=1.7369676245639055e-06 is less than 0.05,\n",
    "# Reject Null. Difference in means is statistically significant"
   ]
  },
  {
   "cell_type": "code",
   "execution_count": 46,
   "id": "510d79c4",
   "metadata": {},
   "outputs": [
    {
     "data": {
      "text/html": [
       "<div>\n",
       "<style scoped>\n",
       "    .dataframe tbody tr th:only-of-type {\n",
       "        vertical-align: middle;\n",
       "    }\n",
       "\n",
       "    .dataframe tbody tr th {\n",
       "        vertical-align: top;\n",
       "    }\n",
       "\n",
       "    .dataframe thead th {\n",
       "        text-align: right;\n",
       "    }\n",
       "</style>\n",
       "<table border=\"1\" class=\"dataframe\">\n",
       "  <thead>\n",
       "    <tr style=\"text-align: right;\">\n",
       "      <th>payment_type</th>\n",
       "      <th>1.0</th>\n",
       "      <th>2.0</th>\n",
       "      <th>3.0</th>\n",
       "      <th>4.0</th>\n",
       "      <th>5.0</th>\n",
       "    </tr>\n",
       "    <tr>\n",
       "      <th>weekday</th>\n",
       "      <th></th>\n",
       "      <th></th>\n",
       "      <th></th>\n",
       "      <th></th>\n",
       "      <th></th>\n",
       "    </tr>\n",
       "  </thead>\n",
       "  <tbody>\n",
       "    <tr>\n",
       "      <th>0</th>\n",
       "      <td>6378</td>\n",
       "      <td>2869</td>\n",
       "      <td>51</td>\n",
       "      <td>9</td>\n",
       "      <td>0</td>\n",
       "    </tr>\n",
       "    <tr>\n",
       "      <th>1</th>\n",
       "      <td>6951</td>\n",
       "      <td>3079</td>\n",
       "      <td>33</td>\n",
       "      <td>13</td>\n",
       "      <td>0</td>\n",
       "    </tr>\n",
       "    <tr>\n",
       "      <th>2</th>\n",
       "      <td>8880</td>\n",
       "      <td>4021</td>\n",
       "      <td>59</td>\n",
       "      <td>13</td>\n",
       "      <td>0</td>\n",
       "    </tr>\n",
       "    <tr>\n",
       "      <th>3</th>\n",
       "      <td>9079</td>\n",
       "      <td>4113</td>\n",
       "      <td>55</td>\n",
       "      <td>9</td>\n",
       "      <td>1</td>\n",
       "    </tr>\n",
       "    <tr>\n",
       "      <th>4</th>\n",
       "      <td>7537</td>\n",
       "      <td>3420</td>\n",
       "      <td>49</td>\n",
       "      <td>7</td>\n",
       "      <td>0</td>\n",
       "    </tr>\n",
       "    <tr>\n",
       "      <th>5</th>\n",
       "      <td>6114</td>\n",
       "      <td>2821</td>\n",
       "      <td>33</td>\n",
       "      <td>6</td>\n",
       "      <td>0</td>\n",
       "    </tr>\n",
       "    <tr>\n",
       "      <th>6</th>\n",
       "      <td>5682</td>\n",
       "      <td>2377</td>\n",
       "      <td>46</td>\n",
       "      <td>12</td>\n",
       "      <td>1</td>\n",
       "    </tr>\n",
       "  </tbody>\n",
       "</table>\n",
       "</div>"
      ],
      "text/plain": [
       "payment_type   1.0   2.0  3.0  4.0  5.0\n",
       "weekday                                \n",
       "0             6378  2869   51    9    0\n",
       "1             6951  3079   33   13    0\n",
       "2             8880  4021   59   13    0\n",
       "3             9079  4113   55    9    1\n",
       "4             7537  3420   49    7    0\n",
       "5             6114  2821   33    6    0\n",
       "6             5682  2377   46   12    1"
      ]
     },
     "execution_count": 46,
     "metadata": {},
     "output_type": "execute_result"
    }
   ],
   "source": [
    "pd.crosstab(greentaxidf.weekday,greentaxidf.payment_type)"
   ]
  },
  {
   "cell_type": "code",
   "execution_count": 47,
   "id": "bc15c60b",
   "metadata": {},
   "outputs": [],
   "source": [
    "from scipy.stats import chi2_contingency"
   ]
  },
  {
   "cell_type": "code",
   "execution_count": 48,
   "id": "81c739cb",
   "metadata": {},
   "outputs": [
    {
     "data": {
      "text/plain": [
       "(32.498186515150216,\n",
       " 0.1151122129771573,\n",
       " 24,\n",
       " array([[6.39097164e+03, 2.86590656e+03, 4.11579533e+01, 8.71134594e+00,\n",
       "         2.52502781e-01],\n",
       "        [6.91903193e+03, 3.10270490e+03, 4.45586695e+01, 9.43112944e+00,\n",
       "         2.73366071e-01],\n",
       "        [8.90835662e+03, 3.99477875e+03, 5.73699504e+01, 1.21427196e+01,\n",
       "         3.51962886e-01],\n",
       "        [9.10337498e+03, 4.08223093e+03, 5.86258716e+01, 1.24085434e+01,\n",
       "         3.59667924e-01],\n",
       "        [7.56245521e+03, 3.39123552e+03, 4.87023251e+01, 1.03081608e+01,\n",
       "         2.98787270e-01],\n",
       "        [6.16230573e+03, 2.76336580e+03, 3.96853414e+01, 8.39965816e+00,\n",
       "         2.43468352e-01],\n",
       "        [5.57450389e+03, 2.49977753e+03, 3.58998888e+01, 7.59844271e+00,\n",
       "         2.20244716e-01]]))"
      ]
     },
     "execution_count": 48,
     "metadata": {},
     "output_type": "execute_result"
    }
   ],
   "source": [
    "chi2_contingency(pd.crosstab(greentaxidf.weekday,\n",
    "                             greentaxidf.payment_type))\n",
    "# Since p-value=0.11511 is greater than 0.05, Fail to Reject \n",
    "# Null."
   ]
  },
  {
   "cell_type": "code",
   "execution_count": 49,
   "id": "e5a59d90",
   "metadata": {},
   "outputs": [
    {
     "data": {
      "text/plain": [
       "Index(['store_and_fwd_flag', 'RatecodeID', 'passenger_count', 'trip_distance',\n",
       "       'fare_amount', 'extra', 'mta_tax', 'tip_amount', 'tolls_amount',\n",
       "       'improvement_surcharge', 'total_amount', 'payment_type', 'trip_type',\n",
       "       'congestion_surcharge', 'weekday'],\n",
       "      dtype='object')"
      ]
     },
     "execution_count": 49,
     "metadata": {},
     "output_type": "execute_result"
    }
   ],
   "source": [
    "greentaxidf.columns"
   ]
  },
  {
   "cell_type": "code",
   "execution_count": 50,
   "id": "0a21e993",
   "metadata": {},
   "outputs": [],
   "source": [
    "objectcols=greentaxidf[['store_and_fwd_flag', 'RatecodeID',\n",
    "                       'payment_type', 'trip_type','weekday']]"
   ]
  },
  {
   "cell_type": "code",
   "execution_count": 51,
   "id": "9f09641e",
   "metadata": {},
   "outputs": [],
   "source": [
    "numericcols=greentaxidf.drop(['store_and_fwd_flag', 'RatecodeID',\n",
    "                       'payment_type', 'trip_type','weekday'],\n",
    "                            axis=1)"
   ]
  },
  {
   "cell_type": "code",
   "execution_count": 52,
   "id": "bd3ab60a",
   "metadata": {},
   "outputs": [
    {
     "name": "stdout",
     "output_type": "stream",
     "text": [
      "(73718, 15)\n",
      "(73718, 5)\n",
      "(73718, 10)\n"
     ]
    }
   ],
   "source": [
    "print(greentaxidf.shape)\n",
    "print(objectcols.shape)\n",
    "print(numericcols.shape)"
   ]
  },
  {
   "cell_type": "code",
   "execution_count": 53,
   "id": "109976a2",
   "metadata": {},
   "outputs": [],
   "source": [
    "objectcolsdummy=pd.get_dummies(objectcols,columns=['store_and_fwd_flag', 'RatecodeID',\n",
    "                       'payment_type', 'trip_type','weekday'])"
   ]
  },
  {
   "cell_type": "code",
   "execution_count": 54,
   "id": "aff9cb5d",
   "metadata": {},
   "outputs": [
    {
     "name": "stdout",
     "output_type": "stream",
     "text": [
      "(73718, 22)\n"
     ]
    }
   ],
   "source": [
    "print(objectcolsdummy.shape)"
   ]
  },
  {
   "cell_type": "code",
   "execution_count": 55,
   "id": "1bab04c7",
   "metadata": {},
   "outputs": [
    {
     "data": {
      "text/html": [
       "<div>\n",
       "<style scoped>\n",
       "    .dataframe tbody tr th:only-of-type {\n",
       "        vertical-align: middle;\n",
       "    }\n",
       "\n",
       "    .dataframe tbody tr th {\n",
       "        vertical-align: top;\n",
       "    }\n",
       "\n",
       "    .dataframe thead th {\n",
       "        text-align: right;\n",
       "    }\n",
       "</style>\n",
       "<table border=\"1\" class=\"dataframe\">\n",
       "  <thead>\n",
       "    <tr style=\"text-align: right;\">\n",
       "      <th></th>\n",
       "      <th>passenger_count</th>\n",
       "      <th>trip_distance</th>\n",
       "      <th>fare_amount</th>\n",
       "      <th>extra</th>\n",
       "      <th>mta_tax</th>\n",
       "      <th>tip_amount</th>\n",
       "      <th>tolls_amount</th>\n",
       "      <th>improvement_surcharge</th>\n",
       "      <th>total_amount</th>\n",
       "      <th>congestion_surcharge</th>\n",
       "    </tr>\n",
       "  </thead>\n",
       "  <tbody>\n",
       "    <tr>\n",
       "      <th>passenger_count</th>\n",
       "      <td>1.000000</td>\n",
       "      <td>-0.008140</td>\n",
       "      <td>-0.020953</td>\n",
       "      <td>0.022470</td>\n",
       "      <td>0.079477</td>\n",
       "      <td>-0.006853</td>\n",
       "      <td>-0.012778</td>\n",
       "      <td>-0.010232</td>\n",
       "      <td>-0.017722</td>\n",
       "      <td>0.042872</td>\n",
       "    </tr>\n",
       "    <tr>\n",
       "      <th>trip_distance</th>\n",
       "      <td>-0.008140</td>\n",
       "      <td>1.000000</td>\n",
       "      <td>0.012262</td>\n",
       "      <td>-0.014962</td>\n",
       "      <td>-0.060035</td>\n",
       "      <td>0.011230</td>\n",
       "      <td>0.007765</td>\n",
       "      <td>0.002299</td>\n",
       "      <td>0.012258</td>\n",
       "      <td>-0.015484</td>\n",
       "    </tr>\n",
       "    <tr>\n",
       "      <th>fare_amount</th>\n",
       "      <td>-0.020953</td>\n",
       "      <td>0.012262</td>\n",
       "      <td>1.000000</td>\n",
       "      <td>-0.062303</td>\n",
       "      <td>-0.272656</td>\n",
       "      <td>0.367894</td>\n",
       "      <td>0.376367</td>\n",
       "      <td>0.058836</td>\n",
       "      <td>0.971591</td>\n",
       "      <td>0.029529</td>\n",
       "    </tr>\n",
       "    <tr>\n",
       "      <th>extra</th>\n",
       "      <td>0.022470</td>\n",
       "      <td>-0.014962</td>\n",
       "      <td>-0.062303</td>\n",
       "      <td>1.000000</td>\n",
       "      <td>0.247415</td>\n",
       "      <td>0.015246</td>\n",
       "      <td>-0.045126</td>\n",
       "      <td>0.060589</td>\n",
       "      <td>-0.017160</td>\n",
       "      <td>0.296072</td>\n",
       "    </tr>\n",
       "    <tr>\n",
       "      <th>mta_tax</th>\n",
       "      <td>0.079477</td>\n",
       "      <td>-0.060035</td>\n",
       "      <td>-0.272656</td>\n",
       "      <td>0.247415</td>\n",
       "      <td>1.000000</td>\n",
       "      <td>-0.229737</td>\n",
       "      <td>-0.112607</td>\n",
       "      <td>0.264013</td>\n",
       "      <td>-0.268623</td>\n",
       "      <td>0.229166</td>\n",
       "    </tr>\n",
       "    <tr>\n",
       "      <th>tip_amount</th>\n",
       "      <td>-0.006853</td>\n",
       "      <td>0.011230</td>\n",
       "      <td>0.367894</td>\n",
       "      <td>0.015246</td>\n",
       "      <td>-0.229737</td>\n",
       "      <td>1.000000</td>\n",
       "      <td>0.260029</td>\n",
       "      <td>0.029020</td>\n",
       "      <td>0.552500</td>\n",
       "      <td>0.125870</td>\n",
       "    </tr>\n",
       "    <tr>\n",
       "      <th>tolls_amount</th>\n",
       "      <td>-0.012778</td>\n",
       "      <td>0.007765</td>\n",
       "      <td>0.376367</td>\n",
       "      <td>-0.045126</td>\n",
       "      <td>-0.112607</td>\n",
       "      <td>0.260029</td>\n",
       "      <td>1.000000</td>\n",
       "      <td>-0.001788</td>\n",
       "      <td>0.459581</td>\n",
       "      <td>-0.059300</td>\n",
       "    </tr>\n",
       "    <tr>\n",
       "      <th>improvement_surcharge</th>\n",
       "      <td>-0.010232</td>\n",
       "      <td>0.002299</td>\n",
       "      <td>0.058836</td>\n",
       "      <td>0.060589</td>\n",
       "      <td>0.264013</td>\n",
       "      <td>0.029020</td>\n",
       "      <td>-0.001788</td>\n",
       "      <td>1.000000</td>\n",
       "      <td>0.067777</td>\n",
       "      <td>0.046147</td>\n",
       "    </tr>\n",
       "    <tr>\n",
       "      <th>total_amount</th>\n",
       "      <td>-0.017722</td>\n",
       "      <td>0.012258</td>\n",
       "      <td>0.971591</td>\n",
       "      <td>-0.017160</td>\n",
       "      <td>-0.268623</td>\n",
       "      <td>0.552500</td>\n",
       "      <td>0.459581</td>\n",
       "      <td>0.067777</td>\n",
       "      <td>1.000000</td>\n",
       "      <td>0.118610</td>\n",
       "    </tr>\n",
       "    <tr>\n",
       "      <th>congestion_surcharge</th>\n",
       "      <td>0.042872</td>\n",
       "      <td>-0.015484</td>\n",
       "      <td>0.029529</td>\n",
       "      <td>0.296072</td>\n",
       "      <td>0.229166</td>\n",
       "      <td>0.125870</td>\n",
       "      <td>-0.059300</td>\n",
       "      <td>0.046147</td>\n",
       "      <td>0.118610</td>\n",
       "      <td>1.000000</td>\n",
       "    </tr>\n",
       "  </tbody>\n",
       "</table>\n",
       "</div>"
      ],
      "text/plain": [
       "                       passenger_count  trip_distance  fare_amount     extra  \\\n",
       "passenger_count               1.000000      -0.008140    -0.020953  0.022470   \n",
       "trip_distance                -0.008140       1.000000     0.012262 -0.014962   \n",
       "fare_amount                  -0.020953       0.012262     1.000000 -0.062303   \n",
       "extra                         0.022470      -0.014962    -0.062303  1.000000   \n",
       "mta_tax                       0.079477      -0.060035    -0.272656  0.247415   \n",
       "tip_amount                   -0.006853       0.011230     0.367894  0.015246   \n",
       "tolls_amount                 -0.012778       0.007765     0.376367 -0.045126   \n",
       "improvement_surcharge        -0.010232       0.002299     0.058836  0.060589   \n",
       "total_amount                 -0.017722       0.012258     0.971591 -0.017160   \n",
       "congestion_surcharge          0.042872      -0.015484     0.029529  0.296072   \n",
       "\n",
       "                        mta_tax  tip_amount  tolls_amount  \\\n",
       "passenger_count        0.079477   -0.006853     -0.012778   \n",
       "trip_distance         -0.060035    0.011230      0.007765   \n",
       "fare_amount           -0.272656    0.367894      0.376367   \n",
       "extra                  0.247415    0.015246     -0.045126   \n",
       "mta_tax                1.000000   -0.229737     -0.112607   \n",
       "tip_amount            -0.229737    1.000000      0.260029   \n",
       "tolls_amount          -0.112607    0.260029      1.000000   \n",
       "improvement_surcharge  0.264013    0.029020     -0.001788   \n",
       "total_amount          -0.268623    0.552500      0.459581   \n",
       "congestion_surcharge   0.229166    0.125870     -0.059300   \n",
       "\n",
       "                       improvement_surcharge  total_amount  \\\n",
       "passenger_count                    -0.010232     -0.017722   \n",
       "trip_distance                       0.002299      0.012258   \n",
       "fare_amount                         0.058836      0.971591   \n",
       "extra                               0.060589     -0.017160   \n",
       "mta_tax                             0.264013     -0.268623   \n",
       "tip_amount                          0.029020      0.552500   \n",
       "tolls_amount                       -0.001788      0.459581   \n",
       "improvement_surcharge               1.000000      0.067777   \n",
       "total_amount                        0.067777      1.000000   \n",
       "congestion_surcharge                0.046147      0.118610   \n",
       "\n",
       "                       congestion_surcharge  \n",
       "passenger_count                    0.042872  \n",
       "trip_distance                     -0.015484  \n",
       "fare_amount                        0.029529  \n",
       "extra                              0.296072  \n",
       "mta_tax                            0.229166  \n",
       "tip_amount                         0.125870  \n",
       "tolls_amount                      -0.059300  \n",
       "improvement_surcharge              0.046147  \n",
       "total_amount                       0.118610  \n",
       "congestion_surcharge               1.000000  "
      ]
     },
     "execution_count": 55,
     "metadata": {},
     "output_type": "execute_result"
    }
   ],
   "source": [
    "numericcols.corr()"
   ]
  },
  {
   "cell_type": "code",
   "execution_count": 58,
   "id": "7f39a6ce",
   "metadata": {},
   "outputs": [],
   "source": [
    "numericcols=numericcols.drop('fare_amount',axis=1)"
   ]
  },
  {
   "cell_type": "code",
   "execution_count": 60,
   "id": "7b003ac4",
   "metadata": {},
   "outputs": [
    {
     "data": {
      "text/html": [
       "<div>\n",
       "<style scoped>\n",
       "    .dataframe tbody tr th:only-of-type {\n",
       "        vertical-align: middle;\n",
       "    }\n",
       "\n",
       "    .dataframe tbody tr th {\n",
       "        vertical-align: top;\n",
       "    }\n",
       "\n",
       "    .dataframe thead th {\n",
       "        text-align: right;\n",
       "    }\n",
       "</style>\n",
       "<table border=\"1\" class=\"dataframe\">\n",
       "  <thead>\n",
       "    <tr style=\"text-align: right;\">\n",
       "      <th></th>\n",
       "      <th>passenger_count</th>\n",
       "      <th>trip_distance</th>\n",
       "      <th>extra</th>\n",
       "      <th>mta_tax</th>\n",
       "      <th>tip_amount</th>\n",
       "      <th>tolls_amount</th>\n",
       "      <th>improvement_surcharge</th>\n",
       "      <th>total_amount</th>\n",
       "      <th>congestion_surcharge</th>\n",
       "    </tr>\n",
       "  </thead>\n",
       "  <tbody>\n",
       "    <tr>\n",
       "      <th>0</th>\n",
       "      <td>2.0</td>\n",
       "      <td>2.03</td>\n",
       "      <td>0.5</td>\n",
       "      <td>0.5</td>\n",
       "      <td>2.64</td>\n",
       "      <td>0.0</td>\n",
       "      <td>0.3</td>\n",
       "      <td>11.44</td>\n",
       "      <td>0.0</td>\n",
       "    </tr>\n",
       "    <tr>\n",
       "      <th>1</th>\n",
       "      <td>2.0</td>\n",
       "      <td>4.26</td>\n",
       "      <td>0.5</td>\n",
       "      <td>0.5</td>\n",
       "      <td>3.16</td>\n",
       "      <td>0.0</td>\n",
       "      <td>0.3</td>\n",
       "      <td>18.96</td>\n",
       "      <td>0.0</td>\n",
       "    </tr>\n",
       "    <tr>\n",
       "      <th>2</th>\n",
       "      <td>1.0</td>\n",
       "      <td>0.00</td>\n",
       "      <td>0.0</td>\n",
       "      <td>0.0</td>\n",
       "      <td>4.59</td>\n",
       "      <td>0.0</td>\n",
       "      <td>0.3</td>\n",
       "      <td>19.89</td>\n",
       "      <td>0.0</td>\n",
       "    </tr>\n",
       "    <tr>\n",
       "      <th>3</th>\n",
       "      <td>1.0</td>\n",
       "      <td>1.78</td>\n",
       "      <td>0.5</td>\n",
       "      <td>0.5</td>\n",
       "      <td>1.00</td>\n",
       "      <td>0.0</td>\n",
       "      <td>0.3</td>\n",
       "      <td>11.80</td>\n",
       "      <td>0.0</td>\n",
       "    </tr>\n",
       "    <tr>\n",
       "      <th>4</th>\n",
       "      <td>3.0</td>\n",
       "      <td>3.10</td>\n",
       "      <td>0.5</td>\n",
       "      <td>0.5</td>\n",
       "      <td>0.00</td>\n",
       "      <td>0.0</td>\n",
       "      <td>0.3</td>\n",
       "      <td>14.30</td>\n",
       "      <td>0.0</td>\n",
       "    </tr>\n",
       "  </tbody>\n",
       "</table>\n",
       "</div>"
      ],
      "text/plain": [
       "   passenger_count  trip_distance  extra  mta_tax  tip_amount  tolls_amount  \\\n",
       "0              2.0           2.03    0.5      0.5        2.64           0.0   \n",
       "1              2.0           4.26    0.5      0.5        3.16           0.0   \n",
       "2              1.0           0.00    0.0      0.0        4.59           0.0   \n",
       "3              1.0           1.78    0.5      0.5        1.00           0.0   \n",
       "4              3.0           3.10    0.5      0.5        0.00           0.0   \n",
       "\n",
       "   improvement_surcharge  total_amount  congestion_surcharge  \n",
       "0                    0.3         11.44                   0.0  \n",
       "1                    0.3         18.96                   0.0  \n",
       "2                    0.3         19.89                   0.0  \n",
       "3                    0.3         11.80                   0.0  \n",
       "4                    0.3         14.30                   0.0  "
      ]
     },
     "execution_count": 60,
     "metadata": {},
     "output_type": "execute_result"
    }
   ],
   "source": [
    "numericcols.head()"
   ]
  },
  {
   "cell_type": "code",
   "execution_count": 59,
   "id": "cfb05a69",
   "metadata": {},
   "outputs": [],
   "source": [
    "greentaxidf_clean=pd.concat([numericcols,objectcolsdummy],\n",
    "                            axis=1)"
   ]
  },
  {
   "cell_type": "code",
   "execution_count": 61,
   "id": "f34358b3",
   "metadata": {},
   "outputs": [],
   "source": [
    "y=greentaxidf_clean.total_amount\n",
    "X=greentaxidf_clean.drop('total_amount',axis=1)"
   ]
  },
  {
   "cell_type": "code",
   "execution_count": 63,
   "id": "cd851976",
   "metadata": {},
   "outputs": [
    {
     "name": "stdout",
     "output_type": "stream",
     "text": [
      "4.078440322859399\n",
      "39.32226196054046\n"
     ]
    },
    {
     "data": {
      "image/png": "[encoded data removed]",
      "text/plain": [
       "<Figure size 640x480 with 1 Axes>"
      ]
     },
     "metadata": {},
     "output_type": "display_data"
    }
   ],
   "source": [
    "y.plot(kind='hist')\n",
    "print(y.skew())\n",
    "print(y.kurt())"
   ]
  },
  {
   "cell_type": "code",
   "execution_count": 64,
   "id": "d6280255",
   "metadata": {},
   "outputs": [
    {
     "data": {
      "text/plain": [
       "<AxesSubplot:>"
      ]
     },
     "execution_count": 64,
     "metadata": {},
     "output_type": "execute_result"
    },
    {
     "data": {
      "image/png": "[encoded data removed]",
      "text/plain": [
       "<Figure size 640x480 with 1 Axes>"
      ]
     },
     "metadata": {},
     "output_type": "display_data"
    }
   ],
   "source": [
    "y.plot(kind='box',vert=False)"
   ]
  },
  {
   "cell_type": "code",
   "execution_count": 65,
   "id": "bbd41020",
   "metadata": {},
   "outputs": [
    {
     "name": "stderr",
     "output_type": "stream",
     "text": [
      "/opt/anaconda3/lib/python3.9/site-packages/pandas/core/arraylike.py:397: RuntimeWarning: divide by zero encountered in log\n",
      "  result = getattr(ufunc, method)(*inputs, **kwargs)\n",
      "/opt/anaconda3/lib/python3.9/site-packages/pandas/core/arraylike.py:397: RuntimeWarning: invalid value encountered in log\n",
      "  result = getattr(ufunc, method)(*inputs, **kwargs)\n"
     ]
    },
    {
     "data": {
      "text/plain": [
       "<AxesSubplot:>"
      ]
     },
     "execution_count": 65,
     "metadata": {},
     "output_type": "execute_result"
    },
    {
     "data": {
      "image/png": "[encoded data removed]",
      "text/plain": [
       "<Figure size 640x480 with 1 Axes>"
      ]
     },
     "metadata": {},
     "output_type": "display_data"
    }
   ],
   "source": [
    "np.log(y).plot(kind='box',vert=False)"
   ]
  },
  {
   "cell_type": "code",
   "execution_count": 66,
   "id": "911d9600",
   "metadata": {},
   "outputs": [
    {
     "name": "stderr",
     "output_type": "stream",
     "text": [
      "/opt/anaconda3/lib/python3.9/site-packages/pandas/core/arraylike.py:397: RuntimeWarning: invalid value encountered in sqrt\n",
      "  result = getattr(ufunc, method)(*inputs, **kwargs)\n"
     ]
    },
    {
     "data": {
      "text/plain": [
       "<AxesSubplot:>"
      ]
     },
     "execution_count": 66,
     "metadata": {},
     "output_type": "execute_result"
    },
    {
     "data": {
      "image/png": "[encoded data removed]",
      "text/plain": [
       "<Figure size 640x480 with 1 Axes>"
      ]
     },
     "metadata": {},
     "output_type": "display_data"
    }
   ],
   "source": [
    "np.sqrt(y).plot(kind='box',vert=False)"
   ]
  },
  {
   "cell_type": "code",
   "execution_count": 67,
   "id": "29471bd7",
   "metadata": {},
   "outputs": [],
   "source": [
    "from sklearn.linear_model import LinearRegression"
   ]
  },
  {
   "cell_type": "code",
   "execution_count": 68,
   "id": "791a8969",
   "metadata": {},
   "outputs": [],
   "source": [
    "reg=LinearRegression()"
   ]
  },
  {
   "cell_type": "code",
   "execution_count": 69,
   "id": "7b7f77c9",
   "metadata": {},
   "outputs": [],
   "source": [
    "regmodel=reg.fit(X,y)"
   ]
  },
  {
   "cell_type": "code",
   "execution_count": 70,
   "id": "e62ab3a8",
   "metadata": {},
   "outputs": [
    {
     "data": {
      "text/plain": [
       "0.48859092018480554"
      ]
     },
     "execution_count": 70,
     "metadata": {},
     "output_type": "execute_result"
    }
   ],
   "source": [
    "regmodel.score(X,y)"
   ]
  },
  {
   "cell_type": "code",
   "execution_count": 72,
   "id": "08d55efe",
   "metadata": {},
   "outputs": [],
   "source": [
    "from sklearn.tree import DecisionTreeRegressor"
   ]
  },
  {
   "cell_type": "code",
   "execution_count": 78,
   "id": "601a780e",
   "metadata": {},
   "outputs": [],
   "source": [
    "tree=DecisionTreeRegressor(max_depth=12)"
   ]
  },
  {
   "cell_type": "code",
   "execution_count": 79,
   "id": "cad3cc92",
   "metadata": {},
   "outputs": [],
   "source": [
    "treemodel=tree.fit(X,y)"
   ]
  },
  {
   "cell_type": "code",
   "execution_count": 80,
   "id": "5951eaab",
   "metadata": {},
   "outputs": [
    {
     "data": {
      "text/plain": [
       "0.8831012545970036"
      ]
     },
     "execution_count": 80,
     "metadata": {},
     "output_type": "execute_result"
    }
   ],
   "source": [
    "treemodel.score(X,y)"
   ]
  },
  {
   "cell_type": "code",
   "execution_count": 81,
   "id": "7a3fa742",
   "metadata": {},
   "outputs": [],
   "source": [
    "from sklearn.model_selection import cross_val_score"
   ]
  },
  {
   "cell_type": "code",
   "execution_count": 82,
   "id": "c92006b7",
   "metadata": {},
   "outputs": [
    {
     "data": {
      "text/plain": [
       "array([ 0.71717014,  0.69728503,  0.72817622,  0.66666892, -1.74054998])"
      ]
     },
     "execution_count": 82,
     "metadata": {},
     "output_type": "execute_result"
    }
   ],
   "source": [
    "cross_val_score(tree,X,y)"
   ]
  },
  {
   "cell_type": "code",
   "execution_count": 83,
   "id": "0e9fa9c4",
   "metadata": {},
   "outputs": [],
   "source": [
    "from sklearn.ensemble import RandomForestRegressor"
   ]
  },
  {
   "cell_type": "code",
   "execution_count": 84,
   "id": "f1b48cac",
   "metadata": {},
   "outputs": [],
   "source": [
    "RF=RandomForestRegressor(n_estimators=3000)"
   ]
  },
  {
   "cell_type": "code",
   "execution_count": 85,
   "id": "b51b8306",
   "metadata": {},
   "outputs": [],
   "source": [
    "RFmodel=RF.fit(X,y)"
   ]
  },
  {
   "cell_type": "code",
   "execution_count": 86,
   "id": "42c9fb12",
   "metadata": {},
   "outputs": [
    {
     "data": {
      "text/plain": [
       "0.9418101709742803"
      ]
     },
     "execution_count": 86,
     "metadata": {},
     "output_type": "execute_result"
    }
   ],
   "source": [
    "RFmodel.score(X,y)"
   ]
  },
  {
   "cell_type": "code",
   "execution_count": null,
   "id": "6dfcaf5f",
   "metadata": {},
   "outputs": [],
   "source": []
  }
 ],
 "metadata": {
  "kernelspec": {
   "display_name": "Python 3 (ipykernel)",
   "language": "python",
   "name": "python3"
  },
  "language_info": {
   "codemirror_mode": {
    "name": "ipython",
    "version": 3
   },
   "file_extension": ".py",
   "mimetype": "text/x-python",
   "name": "python",
   "nbconvert_exporter": "python",
   "pygments_lexer": "ipython3",
   "version": "3.9.13"
  }
 },
 "nbformat": 4,
 "nbformat_minor": 5
}
